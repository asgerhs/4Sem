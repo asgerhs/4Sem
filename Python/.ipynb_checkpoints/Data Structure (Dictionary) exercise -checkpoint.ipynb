{
 "cells": [
  {
   "cell_type": "markdown",
   "metadata": {},
   "source": [
    "# A date of the form 8-MAR-85 includes the name of the month, which must be translated to a number.\n"
   ]
  },
  {
   "cell_type": "code",
   "execution_count": 6,
   "metadata": {},
   "outputs": [
    {
     "data": {
      "text/plain": [
       "'8-MAR-85'"
      ]
     },
     "execution_count": 6,
     "metadata": {},
     "output_type": "execute_result"
    }
   ],
   "source": [
    "date = \"8-MAR-85\"\n",
    "date"
   ]
  },
  {
   "cell_type": "markdown",
   "metadata": {},
   "source": [
    "## Create a dict suitable for decoding month names to numbers."
   ]
  },
  {
   "cell_type": "code",
   "execution_count": 7,
   "metadata": {},
   "outputs": [
    {
     "data": {
      "text/plain": [
       "{'JAN': 1,\n",
       " 'FEB': 2,\n",
       " 'MAR': 3,\n",
       " 'APR': 4,\n",
       " 'MAY': 5,\n",
       " 'JUN': 6,\n",
       " 'JUL': 7,\n",
       " 'AUG': 8,\n",
       " 'SEP': 9,\n",
       " 'OKT': 10,\n",
       " 'NOV': 11,\n",
       " 'DEC': 12}"
      ]
     },
     "execution_count": 7,
     "metadata": {},
     "output_type": "execute_result"
    }
   ],
   "source": [
    "months = {\"JAN\":1, \"FEB\": 2, \"MAR\":3, \"APR\":4, \"MAY\": 5, \"JUN\": 6, \"JUL\":7, \"AUG\":8, \"SEP\":9, \"OKT\":10, \"NOV\":11, \"DEC\":12}\n",
    "months"
   ]
  },
  {
   "cell_type": "markdown",
   "metadata": {},
   "source": [
    "## Create a function which uses string operations to split the date into 3 items using the \"-\" character."
   ]
  },
  {
   "cell_type": "code",
   "execution_count": 8,
   "metadata": {},
   "outputs": [
    {
     "name": "stdout",
     "output_type": "stream",
     "text": [
      "['8', 'MAR', '85']\n"
     ]
    }
   ],
   "source": [
    "def seperator(date):\n",
    "    splits = date.split(\"-\")\n",
    "    return splits\n",
    "    \n",
    "\n",
    "print(seperator(date))"
   ]
  },
  {
   "cell_type": "markdown",
   "metadata": {},
   "source": [
    "## Translate the month and return a tuple."
   ]
  },
  {
   "cell_type": "code",
   "execution_count": 9,
   "metadata": {},
   "outputs": [
    {
     "name": "stdout",
     "output_type": "stream",
     "text": [
      "('8', 3, '85')\n"
     ]
    }
   ],
   "source": [
    "def tuple_date(date):\n",
    "    #result_1 = tuple(seperator(date)[0], months[seperator(date)[1]])\n",
    "    result = (seperator(date)[0], months[seperator(date)[1]], seperator(date)[2])\n",
    "    return result\n",
    "print(tuple_date(date))"
   ]
  },
  {
   "cell_type": "markdown",
   "metadata": {},
   "source": [
    "## The function will accept a date in the \"dd-MMM-yy\" format and respond with a tuple of ( y , m , d )."
   ]
  },
  {
   "cell_type": "code",
   "execution_count": 10,
   "metadata": {},
   "outputs": [
    {
     "name": "stdout",
     "output_type": "stream",
     "text": [
      "('99', 11, '17')\n"
     ]
    }
   ],
   "source": [
    "def date_final(date):\n",
    "    splits = date.split(\"-\")\n",
    "    result = (splits[2], months[splits[1]], splits[0])\n",
    "    return result\n",
    "print(date_final(\"17-NOV-99\"))"
   ]
  }
 ],
 "metadata": {
  "kernelspec": {
   "display_name": "Python 3",
   "language": "python",
   "name": "python3"
  },
  "language_info": {
   "codemirror_mode": {
    "name": "ipython",
    "version": 3
   },
   "file_extension": ".py",
   "mimetype": "text/x-python",
   "name": "python",
   "nbconvert_exporter": "python",
   "pygments_lexer": "ipython3",
   "version": "3.7.4"
  }
 },
 "nbformat": 4,
 "nbformat_minor": 2
}
