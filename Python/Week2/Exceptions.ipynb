{
 "nbformat": 4,
 "nbformat_minor": 2,
 "metadata": {
  "language_info": {
   "name": "python",
   "codemirror_mode": {
    "name": "ipython",
    "version": 3
   },
   "version": "3.7.4-final"
  },
  "orig_nbformat": 2,
  "file_extension": ".py",
  "mimetype": "text/x-python",
  "name": "python",
  "npconvert_exporter": "python",
  "pygments_lexer": "ipython3",
  "version": 3,
  "kernelspec": {
   "name": "python3",
   "display_name": "Python 3"
  }
 },
 "cells": [
  {
   "cell_type": "markdown",
   "execution_count": null,
   "metadata": {},
   "outputs": [],
   "source": [
    "### Create a class called: Person with a constructor that takes a string: name.\n",
    "### Check if name contains only letters and each new word starts with a capital letter. If this is not the case raise an InvalidArgumentException (your own exception here)"
   ]
  },
  {
   "cell_type": "code",
   "execution_count": 34,
   "metadata": {},
   "outputs": [
    {
     "name": "stdout",
     "output_type": "stream",
     "text": "Willi is valid\n"
    },
    {
     "ename": "InvalidArgumentException",
     "evalue": "Each new word must start with uppercase",
     "output_type": "error",
     "traceback": [
      "\u001b[0;31m---------------------------------------------------------------------------\u001b[0m",
      "\u001b[0;31mInvalidArgumentException\u001b[0m                  Traceback (most recent call last)",
      "\u001b[0;32m<ipython-input-34-8fa3c731aa82>\u001b[0m in \u001b[0;36m<module>\u001b[0;34m\u001b[0m\n\u001b[1;32m     24\u001b[0m \u001b[0;34m\u001b[0m\u001b[0m\n\u001b[1;32m     25\u001b[0m \u001b[0mperson2\u001b[0m\u001b[0;34m.\u001b[0m\u001b[0mcheckName\u001b[0m\u001b[0;34m(\u001b[0m\u001b[0;34m)\u001b[0m\u001b[0;34m\u001b[0m\u001b[0;34m\u001b[0m\u001b[0m\n\u001b[0;32m---> 26\u001b[0;31m \u001b[0mperson1\u001b[0m\u001b[0;34m.\u001b[0m\u001b[0mcheckName\u001b[0m\u001b[0;34m(\u001b[0m\u001b[0;34m)\u001b[0m\u001b[0;34m\u001b[0m\u001b[0;34m\u001b[0m\u001b[0m\n\u001b[0m",
      "\u001b[0;32m<ipython-input-34-8fa3c731aa82>\u001b[0m in \u001b[0;36mcheckName\u001b[0;34m(self)\u001b[0m\n\u001b[1;32m     15\u001b[0m                     \u001b[0mprint\u001b[0m\u001b[0;34m(\u001b[0m\u001b[0mself\u001b[0m\u001b[0;34m.\u001b[0m\u001b[0mname\u001b[0m \u001b[0;34m+\u001b[0m \u001b[0;34m\" is valid\"\u001b[0m\u001b[0;34m)\u001b[0m\u001b[0;34m\u001b[0m\u001b[0;34m\u001b[0m\u001b[0m\n\u001b[1;32m     16\u001b[0m                 \u001b[0;32melse\u001b[0m\u001b[0;34m:\u001b[0m\u001b[0;34m\u001b[0m\u001b[0;34m\u001b[0m\u001b[0m\n\u001b[0;32m---> 17\u001b[0;31m                     \u001b[0;32mraise\u001b[0m \u001b[0mInvalidArgumentException\u001b[0m\u001b[0;34m(\u001b[0m\u001b[0;34m\"Each new word must start with uppercase\"\u001b[0m\u001b[0;34m)\u001b[0m\u001b[0;34m\u001b[0m\u001b[0;34m\u001b[0m\u001b[0m\n\u001b[0m\u001b[1;32m     18\u001b[0m             \u001b[0;32melse\u001b[0m\u001b[0;34m:\u001b[0m\u001b[0;34m\u001b[0m\u001b[0;34m\u001b[0m\u001b[0m\n\u001b[1;32m     19\u001b[0m                 \u001b[0;32mraise\u001b[0m \u001b[0mInvalidArgumentException\u001b[0m\u001b[0;34m(\u001b[0m\u001b[0;34m'You sure? your name may only contain letters that are concidered correct by the ASCII'\u001b[0m\u001b[0;34m)\u001b[0m\u001b[0;34m\u001b[0m\u001b[0;34m\u001b[0m\u001b[0m\n",
      "\u001b[0;31mInvalidArgumentException\u001b[0m: Each new word must start with uppercase"
     ]
    }
   ],
   "source": [
    "class InvalidArgumentException(ValueError):\n",
    "    def __init__(self, *args, **kwargs):\n",
    "        ValueError.__init__(self, *args, **kwargs)\n",
    "\n",
    "\n",
    "\n",
    "class Person():\n",
    "    def __init__(self, name):\n",
    "        self.name = name\n",
    "    \n",
    "    def checkName(self):\n",
    "        for word in self.name.split():\n",
    "            if word.isascii():\n",
    "                if word[0].isupper():\n",
    "                    print(self.name + \" is valid\")\n",
    "                else: \n",
    "                    raise InvalidArgumentException(\"Each new word must start with uppercase\")\n",
    "            else:\n",
    "                raise InvalidArgumentException('You sure? your name may only contain letters that are concidered correct by the ASCII')\n",
    "\n",
    "\n",
    "person1 = Person(\"andreas\")\n",
    "person2 = Person(\"Willi\")\n",
    "\n",
    "person2.checkName()\n",
    "person1.checkName()"
   ]
  },
  {
   "cell_type": "markdown",
   "execution_count": null,
   "metadata": {},
   "outputs": [],
   "source": [
    "### Check if name contains only letters and each new word starts with a capital letter. If this is not the case raise an InvalidArgumentException (your own exception here)"
   ]
  }
 ]
}