{
 "cells": [
  {
   "cell_type": "markdown",
   "metadata": {},
   "source": [
    "## Write a function that iterates through a list and prints each value without using a loop.\n",
    "## That is, write a recursive function to print the values of a list."
   ]
  },
  {
   "cell_type": "code",
   "execution_count": 28,
   "metadata": {},
   "outputs": [
    {
     "name": "stdout",
     "output_type": "stream",
     "text": [
      "Vikke\n",
      "Willi\n",
      "Svense\n",
      "Martini\n"
     ]
    }
   ],
   "source": [
    "names = [\"Vikke\", \"Willi\", \"Svense\", \"Martini\"]\n",
    "\n",
    "def recursive_func(name):\n",
    "    if(len(name) > 0):\n",
    "        print(name[0])\n",
    "        name.pop(0)\n",
    "        recursive_func(name)\n",
    "    \n",
    "recursive_func(names)"
   ]
  },
  {
   "cell_type": "markdown",
   "metadata": {},
   "source": [
    "## Write a function that can take any number of arguments and return all arguments concatenated or summed depending on the data type"
   ]
  },
  {
   "cell_type": "code",
   "execution_count": 16,
   "metadata": {},
   "outputs": [
    {
     "name": "stdout",
     "output_type": "stream",
     "text": [
      "6\n",
      "hej Filip \n"
     ]
    }
   ],
   "source": [
    "def concat_sum(*arg):\n",
    "    string = \"\"\n",
    "    num = 0\n",
    "    for args in arg:\n",
    "        if type(args) is int:\n",
    "            num += args\n",
    "        else: \n",
    "            string += args + \" \"\n",
    "    print(num)\n",
    "    print(string)\n",
    "        \n",
    "\n",
    "concat_sum(1, 2, 3, \"hej\", \"Filip\")"
   ]
  }
 ],
 "metadata": {
  "kernelspec": {
   "display_name": "Python 3",
   "language": "python",
   "name": "python3"
  },
  "language_info": {
   "codemirror_mode": {
    "name": "ipython",
    "version": 3
   },
   "file_extension": ".py",
   "mimetype": "text/x-python",
   "name": "python",
   "nbconvert_exporter": "python",
   "pygments_lexer": "ipython3",
   "version": "3.7.4"
  }
 },
 "nbformat": 4,
 "nbformat_minor": 2
}
