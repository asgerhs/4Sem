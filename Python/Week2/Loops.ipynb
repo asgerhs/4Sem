{
 "nbformat": 4,
 "nbformat_minor": 2,
 "metadata": {
  "language_info": {
   "name": "python",
   "codemirror_mode": {
    "name": "ipython",
    "version": 3
   },
   "version": "3.7.4-final"
  },
  "orig_nbformat": 2,
  "file_extension": ".py",
  "mimetype": "text/x-python",
  "name": "python",
  "npconvert_exporter": "python",
  "pygments_lexer": "ipython3",
  "version": 3,
  "kernelspec": {
   "name": "python3",
   "display_name": "Python 3"
  }
 },
 "cells": [
  {
   "cell_type": "markdown",
   "execution_count": null,
   "metadata": {},
   "outputs": [],
   "source": [
    "### 1. Write a program that creates gramatically valid English sentences.\n",
    "#### - Here, we consider a sentence to be gramatically correct when it follows the simple English grammar of the form: Article Adjective Noun Verb. That is, even the sentence A insect fly. is, for the moment, considered correct.\n"
   ]
  },
  {
   "cell_type": "code",
   "execution_count": 1,
   "metadata": {},
   "outputs": [
    {
     "name": "stdout",
     "output_type": "stream",
     "text": "The simple shirt revise\n"
    }
   ],
   "source": [
    "import random\n",
    "\n",
    "articles = ['A', 'An', 'The']\n",
    "adjectives = ['hallowed' , 'earthy', 'simple', 'limping', 'three']\n",
    "nouns = ['charity', 'coffee', 'shirt', 'cousin', 'shopping']\n",
    "verbs = ['revise', 'display', 'pull', 'dream', 'escape']\n",
    "\n",
    "print(articles[random.randint(0,2)], adjectives[random.randint(0,4)], nouns[random.randint(0, 4)], verbs[random.randint(0,4)])\n"
   ]
  },
  {
   "cell_type": "markdown",
   "execution_count": null,
   "metadata": {},
   "outputs": [],
   "source": [
    "#### - Create additionally to the exercise above, a list of definite and indefinite articles and verbs from an online resource."
   ]
  },
  {
   "cell_type": "code",
   "execution_count": 3,
   "metadata": {},
   "outputs": [
    {
     "name": "stdout",
     "output_type": "stream",
     "text": "A hallowed charity revise\nA hallowed charity display\nA hallowed charity pull\nA hallowed charity dream\nA hallowed charity escape\nA hallowed coffee revise\nA hallowed coffee display\nA hallowed coffee pull\nA hallowed coffee dream\nA hallowed coffee escape\nA hallowed shirt revise\nA hallowed shirt display\nA hallowed shirt pull\nA hallowed shirt dream\nA hallowed shirt escape\nA hallowed cousin revise\nA hallowed cousin display\nA hallowed cousin pull\nA hallowed cousin dream\nA hallowed cousin escape\nA hallowed shopping revise\nA hallowed shopping display\nA hallowed shopping pull\nA hallowed shopping dream\nA hallowed shopping escape\nA earthy charity revise\nA earthy charity display\nA earthy charity pull\nA earthy charity dream\nA earthy charity escape\nA earthy coffee revise\nA earthy coffee display\nA earthy coffee pull\nA earthy coffee dream\nA earthy coffee escape\nA earthy shirt revise\nA earthy shirt display\nA earthy shirt pull\nA earthy shirt dream\nA earthy shirt escape\nA earthy cousin revise\nA earthy cousin display\nA earthy cousin pull\nA earthy cousin dream\nA earthy cousin escape\nA earthy shopping revise\nA earthy shopping display\nA earthy shopping pull\nA earthy shopping dream\nA earthy shopping escape\nA simple charity revise\nA simple charity display\nA simple charity pull\nA simple charity dream\nA simple charity escape\nA simple coffee revise\nA simple coffee display\nA simple coffee pull\nA simple coffee dream\nA simple coffee escape\nA simple shirt revise\nA simple shirt display\nA simple shirt pull\nA simple shirt dream\nA simple shirt escape\nA simple cousin revise\nA simple cousin display\nA simple cousin pull\nA simple cousin dream\nA simple cousin escape\nA simple shopping revise\nA simple shopping display\nA simple shopping pull\nA simple shopping dream\nA simple shopping escape\nA limping charity revise\nA limping charity display\nA limping charity pull\nA limping charity dream\nA limping charity escape\nA limping coffee revise\nA limping coffee display\nA limping coffee pull\nA limping coffee dream\nA limping coffee escape\nA limping shirt revise\nA limping shirt display\nA limping shirt pull\nA limping shirt dream\nA limping shirt escape\nA limping cousin revise\nA limping cousin display\nA limping cousin pull\nA limping cousin dream\nA limping cousin escape\nA limping shopping revise\nA limping shopping display\nA limping shopping pull\nA limping shopping dream\nA limping shopping escape\nA three charity revise\nA three charity display\nA three charity pull\nA three charity dream\nA three charity escape\nA three coffee revise\nA three coffee display\nA three coffee pull\nA three coffee dream\nA three coffee escape\nA three shirt revise\nA three shirt display\nA three shirt pull\nA three shirt dream\nA three shirt escape\nA three cousin revise\nA three cousin display\nA three cousin pull\nA three cousin dream\nA three cousin escape\nA three shopping revise\nA three shopping display\nA three shopping pull\nA three shopping dream\nA three shopping escape\nAn hallowed charity revise\nAn hallowed charity display\nAn hallowed charity pull\nAn hallowed charity dream\nAn hallowed charity escape\nAn hallowed coffee revise\nAn hallowed coffee display\nAn hallowed coffee pull\nAn hallowed coffee dream\nAn hallowed coffee escape\nAn hallowed shirt revise\nAn hallowed shirt display\nAn hallowed shirt pull\nAn hallowed shirt dream\nAn hallowed shirt escape\nAn hallowed cousin revise\nAn hallowed cousin display\nAn hallowed cousin pull\nAn hallowed cousin dream\nAn hallowed cousin escape\nAn hallowed shopping revise\nAn hallowed shopping display\nAn hallowed shopping pull\nAn hallowed shopping dream\nAn hallowed shopping escape\nAn earthy charity revise\nAn earthy charity display\nAn earthy charity pull\nAn earthy charity dream\nAn earthy charity escape\nAn earthy coffee revise\nAn earthy coffee display\nAn earthy coffee pull\nAn earthy coffee dream\nAn earthy coffee escape\nAn earthy shirt revise\nAn earthy shirt display\nAn earthy shirt pull\nAn earthy shirt dream\nAn earthy shirt escape\nAn earthy cousin revise\nAn earthy cousin display\nAn earthy cousin pull\nAn earthy cousin dream\nAn earthy cousin escape\nAn earthy shopping revise\nAn earthy shopping display\nAn earthy shopping pull\nAn earthy shopping dream\nAn earthy shopping escape\nAn simple charity revise\nAn simple charity display\nAn simple charity pull\nAn simple charity dream\nAn simple charity escape\nAn simple coffee revise\nAn simple coffee display\nAn simple coffee pull\nAn simple coffee dream\nAn simple coffee escape\nAn simple shirt revise\nAn simple shirt display\nAn simple shirt pull\nAn simple shirt dream\nAn simple shirt escape\nAn simple cousin revise\nAn simple cousin display\nAn simple cousin pull\nAn simple cousin dream\nAn simple cousin escape\nAn simple shopping revise\nAn simple shopping display\nAn simple shopping pull\nAn simple shopping dream\nAn simple shopping escape\nAn limping charity revise\nAn limping charity display\nAn limping charity pull\nAn limping charity dream\nAn limping charity escape\nAn limping coffee revise\nAn limping coffee display\nAn limping coffee pull\nAn limping coffee dream\nAn limping coffee escape\nAn limping shirt revise\nAn limping shirt display\nAn limping shirt pull\nAn limping shirt dream\nAn limping shirt escape\nAn limping cousin revise\nAn limping cousin display\nAn limping cousin pull\nAn limping cousin dream\nAn limping cousin escape\nAn limping shopping revise\nAn limping shopping display\nAn limping shopping pull\nAn limping shopping dream\nAn limping shopping escape\nAn three charity revise\nAn three charity display\nAn three charity pull\nAn three charity dream\nAn three charity escape\nAn three coffee revise\nAn three coffee display\nAn three coffee pull\nAn three coffee dream\nAn three coffee escape\nAn three shirt revise\nAn three shirt display\nAn three shirt pull\nAn three shirt dream\nAn three shirt escape\nAn three cousin revise\nAn three cousin display\nAn three cousin pull\nAn three cousin dream\nAn three cousin escape\nAn three shopping revise\nAn three shopping display\nAn three shopping pull\nAn three shopping dream\nAn three shopping escape\nThe hallowed charity revise\nThe hallowed charity display\nThe hallowed charity pull\nThe hallowed charity dream\nThe hallowed charity escape\nThe hallowed coffee revise\nThe hallowed coffee display\nThe hallowed coffee pull\nThe hallowed coffee dream\nThe hallowed coffee escape\nThe hallowed shirt revise\nThe hallowed shirt display\nThe hallowed shirt pull\nThe hallowed shirt dream\nThe hallowed shirt escape\nThe hallowed cousin revise\nThe hallowed cousin display\nThe hallowed cousin pull\nThe hallowed cousin dream\nThe hallowed cousin escape\nThe hallowed shopping revise\nThe hallowed shopping display\nThe hallowed shopping pull\nThe hallowed shopping dream\nThe hallowed shopping escape\nThe earthy charity revise\nThe earthy charity display\nThe earthy charity pull\nThe earthy charity dream\nThe earthy charity escape\nThe earthy coffee revise\nThe earthy coffee display\nThe earthy coffee pull\nThe earthy coffee dream\nThe earthy coffee escape\nThe earthy shirt revise\nThe earthy shirt display\nThe earthy shirt pull\nThe earthy shirt dream\nThe earthy shirt escape\nThe earthy cousin revise\nThe earthy cousin display\nThe earthy cousin pull\nThe earthy cousin dream\nThe earthy cousin escape\nThe earthy shopping revise\nThe earthy shopping display\nThe earthy shopping pull\nThe earthy shopping dream\nThe earthy shopping escape\nThe simple charity revise\nThe simple charity display\nThe simple charity pull\nThe simple charity dream\nThe simple charity escape\nThe simple coffee revise\nThe simple coffee display\nThe simple coffee pull\nThe simple coffee dream\nThe simple coffee escape\nThe simple shirt revise\nThe simple shirt display\nThe simple shirt pull\nThe simple shirt dream\nThe simple shirt escape\nThe simple cousin revise\nThe simple cousin display\nThe simple cousin pull\nThe simple cousin dream\nThe simple cousin escape\nThe simple shopping revise\nThe simple shopping display\nThe simple shopping pull\nThe simple shopping dream\nThe simple shopping escape\nThe limping charity revise\nThe limping charity display\nThe limping charity pull\nThe limping charity dream\nThe limping charity escape\nThe limping coffee revise\nThe limping coffee display\nThe limping coffee pull\nThe limping coffee dream\nThe limping coffee escape\nThe limping shirt revise\nThe limping shirt display\nThe limping shirt pull\nThe limping shirt dream\nThe limping shirt escape\nThe limping cousin revise\nThe limping cousin display\nThe limping cousin pull\nThe limping cousin dream\nThe limping cousin escape\nThe limping shopping revise\nThe limping shopping display\nThe limping shopping pull\nThe limping shopping dream\nThe limping shopping escape\nThe three charity revise\nThe three charity display\nThe three charity pull\nThe three charity dream\nThe three charity escape\nThe three coffee revise\nThe three coffee display\nThe three coffee pull\nThe three coffee dream\nThe three coffee escape\nThe three shirt revise\nThe three shirt display\nThe three shirt pull\nThe three shirt dream\nThe three shirt escape\nThe three cousin revise\nThe three cousin display\nThe three cousin pull\nThe three cousin dream\nThe three cousin escape\nThe three shopping revise\nThe three shopping display\nThe three shopping pull\nThe three shopping dream\nThe three shopping escape\n"
    }
   ],
   "source": [
    "for ar in articles:\n",
    "    for ad in adjectives:\n",
    "        for no in nouns:\n",
    "            for ve in verbs:\n",
    "                print(ar, ad, no, ve)"
   ]
  }
 ]
}