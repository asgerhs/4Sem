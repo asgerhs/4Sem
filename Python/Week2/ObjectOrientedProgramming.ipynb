{
 "nbformat": 4,
 "nbformat_minor": 2,
 "metadata": {
  "language_info": {
   "name": "python",
   "codemirror_mode": {
    "name": "ipython",
    "version": 3
   },
   "version": "3.7.4-final"
  },
  "orig_nbformat": 2,
  "file_extension": ".py",
  "mimetype": "text/x-python",
  "name": "python",
  "npconvert_exporter": "python",
  "pygments_lexer": "ipython3",
  "version": 3,
  "kernelspec": {
   "name": "python3",
   "display_name": "Python 3"
  }
 },
 "cells": [
  {
   "cell_type": "code",
   "execution_count": 2,
   "metadata": {},
   "outputs": [
    {
     "name": "stdout",
     "output_type": "stream",
     "text": "7\n25\n"
    }
   ],
   "source": [
    "import re\n",
    "import string\n",
    "\n",
    "class textContainer():\n",
    "    def __init__(self, text):\n",
    "        self.text = text\n",
    "\n",
    "    def wordCount(self):\n",
    "        words = self.text.split()\n",
    "        print(len(words))\n",
    "    \n",
    "    def charCount(self):\n",
    "        chars = len(self.text.replace(\" \", \"\"))\n",
    "        print(chars)\n",
    "\n",
    "  \n",
    "\n",
    "txt = textContainer(\"Hej jeg hedder Asger, jeg er 22\")\n",
    "string = \"hej med dig henning\"\n",
    "\n",
    "txt.wordCount()\n",
    "txt.charCount()\n"
   ]
  }
 ]
}