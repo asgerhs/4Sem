{
 "nbformat": 4,
 "nbformat_minor": 2,
 "metadata": {
  "language_info": {
   "name": "python",
   "codemirror_mode": {
    "name": "ipython",
    "version": 3
   },
   "version": "3.7.4-final"
  },
  "orig_nbformat": 2,
  "file_extension": ".py",
  "mimetype": "text/x-python",
  "name": "python",
  "npconvert_exporter": "python",
  "pygments_lexer": "ipython3",
  "version": 3,
  "kernelspec": {
   "name": "python3",
   "display_name": "Python 3"
  }
 },
 "cells": [
  {
   "cell_type": "code",
   "execution_count": 20,
   "metadata": {},
   "outputs": [
    {
     "ename": "ValueError",
     "evalue": "Some errors were detected !\n    Line #11 (got 4 columns instead of 1)\n    Line #156 (got 4 columns instead of 1)\n    Line #354 (got 2 columns instead of 1)\n    Line #355 (got 2 columns instead of 1)\n    Line #588 (got 3 columns instead of 1)\n    Line #670 (got 2 columns instead of 1)\n    Line #736 (got 2 columns instead of 1)\n    Line #775 (got 2 columns instead of 1)\n    Line #821 (got 2 columns instead of 1)\n    Line #830 (got 5 columns instead of 1)\n    Line #1103 (got 2 columns instead of 1)\n    Line #1131 (got 2 columns instead of 1)\n    Line #1400 (got 4 columns instead of 1)\n    Line #1401 (got 2 columns instead of 1)\n    Line #1468 (got 2 columns instead of 1)\n    Line #1473 (got 2 columns instead of 1)\n    Line #1474 (got 2 columns instead of 1)\n    Line #1483 (got 2 columns instead of 1)\n    Line #1484 (got 2 columns instead of 1)\n    Line #1495 (got 2 columns instead of 1)\n    Line #1496 (got 2 columns instead of 1)\n    Line #1503 (got 2 columns instead of 1)\n    Line #1505 (got 2 columns instead of 1)\n    Line #1507 (got 2 columns instead of 1)\n    Line #1511 (got 2 columns instead of 1)\n    Line #1518 (got 2 columns instead of 1)\n    Line #1522 (got 2 columns instead of 1)\n    Line #1530 (got 2 columns instead of 1)\n    Line #1543 (got 2 columns instead of 1)\n    Line #1545 (got 2 columns instead of 1)\n    Line #1561 (got 2 columns instead of 1)\n    Line #1576 (got 2 columns instead of 1)\n    Line #1582 (got 2 columns instead of 1)\n    Line #1597 (got 2 columns instead of 1)\n    Line #1603 (got 2 columns instead of 1)\n    Line #1607 (got 2 columns instead of 1)\n    Line #1625 (got 2 columns instead of 1)\n    Line #1636 (got 2 columns instead of 1)\n    Line #1644 (got 2 columns instead of 1)\n    Line #1645 (got 2 columns instead of 1)",
     "output_type": "error",
     "traceback": [
      "\u001b[0;31m---------------------------------------------------------------------------\u001b[0m",
      "\u001b[0;31mValueError\u001b[0m                                Traceback (most recent call last)",
      "\u001b[0;32m<ipython-input-20-b0cfb93e05e6>\u001b[0m in \u001b[0;36m<module>\u001b[0;34m\u001b[0m\n\u001b[1;32m      1\u001b[0m \u001b[0;32mimport\u001b[0m \u001b[0mnumpy\u001b[0m \u001b[0;32mas\u001b[0m \u001b[0mnp\u001b[0m\u001b[0;34m\u001b[0m\u001b[0;34m\u001b[0m\u001b[0m\n\u001b[1;32m      2\u001b[0m \u001b[0mf\u001b[0m \u001b[0;34m=\u001b[0m \u001b[0mopen\u001b[0m\u001b[0;34m(\u001b[0m\u001b[0;34m\"befkbhalderstatkode.csv\"\u001b[0m\u001b[0;34m)\u001b[0m\u001b[0;34m\u001b[0m\u001b[0;34m\u001b[0m\u001b[0m\n\u001b[0;32m----> 3\u001b[0;31m \u001b[0mnp\u001b[0m\u001b[0;34m.\u001b[0m\u001b[0mgenfromtxt\u001b[0m\u001b[0;34m(\u001b[0m\u001b[0mf\u001b[0m\u001b[0;34m,\u001b[0m \u001b[0mdtype\u001b[0m\u001b[0;34m=\u001b[0m\u001b[0mnp\u001b[0m\u001b[0;34m.\u001b[0m\u001b[0muint\u001b[0m\u001b[0;34m,\u001b[0m \u001b[0mdelimiter\u001b[0m\u001b[0;34m=\u001b[0m\u001b[0;34m','\u001b[0m\u001b[0;34m,\u001b[0m  \u001b[0mskip_header\u001b[0m\u001b[0;34m=\u001b[0m\u001b[0;36m1\u001b[0m\u001b[0;34m)\u001b[0m\u001b[0;34m\u001b[0m\u001b[0;34m\u001b[0m\u001b[0m\n\u001b[0m",
      "\u001b[0;32m~/opt/anaconda3/lib/python3.7/site-packages/numpy/lib/npyio.py\u001b[0m in \u001b[0;36mgenfromtxt\u001b[0;34m(fname, dtype, comments, delimiter, skip_header, skip_footer, converters, missing_values, filling_values, usecols, names, excludelist, deletechars, replace_space, autostrip, case_sensitive, defaultfmt, unpack, usemask, loose, invalid_raise, max_rows, encoding)\u001b[0m\n\u001b[1;32m   2087\u001b[0m             \u001b[0;31m# Raise an exception ?\u001b[0m\u001b[0;34m\u001b[0m\u001b[0;34m\u001b[0m\u001b[0;34m\u001b[0m\u001b[0m\n\u001b[1;32m   2088\u001b[0m             \u001b[0;32mif\u001b[0m \u001b[0minvalid_raise\u001b[0m\u001b[0;34m:\u001b[0m\u001b[0;34m\u001b[0m\u001b[0;34m\u001b[0m\u001b[0m\n\u001b[0;32m-> 2089\u001b[0;31m                 \u001b[0;32mraise\u001b[0m \u001b[0mValueError\u001b[0m\u001b[0;34m(\u001b[0m\u001b[0merrmsg\u001b[0m\u001b[0;34m)\u001b[0m\u001b[0;34m\u001b[0m\u001b[0;34m\u001b[0m\u001b[0m\n\u001b[0m\u001b[1;32m   2090\u001b[0m             \u001b[0;31m# Issue a warning ?\u001b[0m\u001b[0;34m\u001b[0m\u001b[0;34m\u001b[0m\u001b[0;34m\u001b[0m\u001b[0m\n\u001b[1;32m   2091\u001b[0m             \u001b[0;32melse\u001b[0m\u001b[0;34m:\u001b[0m\u001b[0;34m\u001b[0m\u001b[0;34m\u001b[0m\u001b[0m\n",
      "\u001b[0;31mValueError\u001b[0m: Some errors were detected !\n    Line #11 (got 4 columns instead of 1)\n    Line #156 (got 4 columns instead of 1)\n    Line #354 (got 2 columns instead of 1)\n    Line #355 (got 2 columns instead of 1)\n    Line #588 (got 3 columns instead of 1)\n    Line #670 (got 2 columns instead of 1)\n    Line #736 (got 2 columns instead of 1)\n    Line #775 (got 2 columns instead of 1)\n    Line #821 (got 2 columns instead of 1)\n    Line #830 (got 5 columns instead of 1)\n    Line #1103 (got 2 columns instead of 1)\n    Line #1131 (got 2 columns instead of 1)\n    Line #1400 (got 4 columns instead of 1)\n    Line #1401 (got 2 columns instead of 1)\n    Line #1468 (got 2 columns instead of 1)\n    Line #1473 (got 2 columns instead of 1)\n    Line #1474 (got 2 columns instead of 1)\n    Line #1483 (got 2 columns instead of 1)\n    Line #1484 (got 2 columns instead of 1)\n    Line #1495 (got 2 columns instead of 1)\n    Line #1496 (got 2 columns instead of 1)\n    Line #1503 (got 2 columns instead of 1)\n    Line #1505 (got 2 columns instead of 1)\n    Line #1507 (got 2 columns instead of 1)\n    Line #1511 (got 2 columns instead of 1)\n    Line #1518 (got 2 columns instead of 1)\n    Line #1522 (got 2 columns instead of 1)\n    Line #1530 (got 2 columns instead of 1)\n    Line #1543 (got 2 columns instead of 1)\n    Line #1545 (got 2 columns instead of 1)\n    Line #1561 (got 2 columns instead of 1)\n    Line #1576 (got 2 columns instead of 1)\n    Line #1582 (got 2 columns instead of 1)\n    Line #1597 (got 2 columns instead of 1)\n    Line #1603 (got 2 columns instead of 1)\n    Line #1607 (got 2 columns instead of 1)\n    Line #1625 (got 2 columns instead of 1)\n    Line #1636 (got 2 columns instead of 1)\n    Line #1644 (got 2 columns instead of 1)\n    Line #1645 (got 2 columns instead of 1)"
     ]
    }
   ],
   "source": [
    "import numpy as np\n",
    "f = open(\"befkbhalderstatkode.csv\")\n",
    "np.genfromtxt(f, delimiter=',', dtype=np.uint, skip_header=1)"
   ]
  }
 ]
}