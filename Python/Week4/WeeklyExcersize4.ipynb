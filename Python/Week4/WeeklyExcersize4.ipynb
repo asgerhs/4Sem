{
 "nbformat": 4,
 "nbformat_minor": 2,
 "metadata": {
  "language_info": {
   "name": "python",
   "codemirror_mode": {
    "name": "ipython",
    "version": 3
   },
   "version": "3.7.4-final"
  },
  "orig_nbformat": 2,
  "file_extension": ".py",
  "mimetype": "text/x-python",
  "name": "python",
  "npconvert_exporter": "python",
  "pygments_lexer": "ipython3",
  "version": 3,
  "kernelspec": {
   "name": "python3",
   "display_name": "Python 3"
  }
 },
 "cells": [
  {
   "cell_type": "markdown",
   "execution_count": null,
   "metadata": {},
   "outputs": [],
   "source": [
    "### 1. Open the file './befkbhalderstatkode.csv'\n",
    "### 2. Turn the csv file into a numpy ndarray"
   ]
  },
  {
   "cell_type": "code",
   "execution_count": 2,
   "metadata": {},
   "outputs": [],
   "source": [
    "import numpy as np\n",
    "f = open(\"befkbhalderstatkode.csv\")\n",
    "data = np.genfromtxt(f, delimiter=',', dtype=np.uint, skip_header=1)\n"
   ]
  },
  {
   "cell_type": "markdown",
   "execution_count": null,
   "metadata": {},
   "outputs": [],
   "source": [
    "### Using this data:\n",
    " #### neighb = \n",
    "      {1: 'Indre By', 2: 'Østerbro', 3: 'Nørrebro', 4: 'Vesterbro/Kgs. Enghave',\n",
    "       5: 'Valby', 6: 'Vanløse', 7: 'Brønshøj-Husum', 8: 'Bispebjerg', 9: 'Amager Øst', \n",
    "       10: 'Amager Vest', 99: 'Udenfor'}\n",
    "#### Find out how many people lived in each of the 11 areas in 2015"
   ]
  },
  {
   "cell_type": "code",
   "execution_count": 3,
   "metadata": {},
   "outputs": [
    {
     "name": "stdout",
     "output_type": "stream",
     "text": "51937 in Indre By\n75113 in Østerbro\n78802 in Nørrebro\n61623 in Vesterbro/Kgs. Enghave\n51727 in Valby\n39537 in Vanløse\n43908 in Brønshøj-Husum\n53604 in Bispebjerg\n55205 in Amager Øst\n64967 in Amager Vest\n3872 in Udenfor\n"
    }
   ],
   "source": [
    "neighb = {1: 'Indre By', 2: 'Østerbro', 3: 'Nørrebro', 4: 'Vesterbro/Kgs. Enghave',\n",
    "   5: 'Valby', 6: 'Vanløse', 7: 'Brønshøj-Husum', 8: 'Bispebjerg', 9: 'Amager Øst', \n",
    "   10: 'Amager Vest', 99: 'Udenfor'}\n",
    "\n",
    "for city in neighb:\n",
    "    mask = (data[:,0] == 2015) & (data[:,1] == city)\n",
    "    print(str(np.sum(data[mask][:,4])) + ' in ' + neighb.get(city))\n"
   ]
  },
  {
   "cell_type": "markdown",
   "execution_count": null,
   "metadata": {},
   "outputs": [],
   "source": [
    "### Make a bar plot to show the size of each city area from the smallest to the largest"
   ]
  },
  {
   "cell_type": "code",
   "execution_count": 6,
   "metadata": {},
   "outputs": [
    {
     "ename": "SyntaxError",
     "evalue": "unexpected EOF while parsing (<ipython-input-6-f80cece85f82>, line 11)",
     "output_type": "error",
     "traceback": [
      "\u001b[0;36m  File \u001b[0;32m\"<ipython-input-6-f80cece85f82>\"\u001b[0;36m, line \u001b[0;32m11\u001b[0m\n\u001b[0;31m    \u001b[0m\n\u001b[0m    ^\u001b[0m\n\u001b[0;31mSyntaxError\u001b[0m\u001b[0;31m:\u001b[0m unexpected EOF while parsing\n"
     ]
    }
   ],
   "source": [
    "import matplotlib.pyplot as plt\n",
    "\n",
    "cities = []\n",
    "for city in neighb:\n",
    "    cities.append(neighb.get(city))\n",
    "y_max = 0\n",
    "\n",
    "for city in neighb:\n",
    "    mask = (data[:,0] == 2015) & (data[:,1] == city) \n",
    "    print(type(np.sum(data[mask][:,4]))\n",
    "\n"
   ]
  },
  {
   "cell_type": "markdown",
   "execution_count": null,
   "metadata": {},
   "outputs": [],
   "source": [
    "### Create a boolean mask to find out how many people above 65 years lived in Copenhagen in 2015"
   ]
  },
  {
   "cell_type": "code",
   "execution_count": 4,
   "metadata": {},
   "outputs": [
    {
     "name": "stdout",
     "output_type": "stream",
     "text": "7358 in Indre By are 65 or older\n8959 in Østerbro are 65 or older\n5429 in Nørrebro are 65 or older\n4338 in Vesterbro/Kgs. Enghave are 65 or older\n5753 in Valby are 65 or older\n5014 in Vanløse are 65 or older\n5825 in Brønshøj-Husum are 65 or older\n5279 in Bispebjerg are 65 or older\n5416 in Amager Øst are 65 or older\n6428 in Amager Vest are 65 or older\n60 in Udenfor are 65 or older\n"
    }
   ],
   "source": [
    "for city in neighb:\n",
    "    mask = (data[:,0] == 2015) & (data[:,1] == city) & (data[:,2] >= 65)\n",
    "    print(str(np.sum(data[mask][:,4])) + ' in ' + neighb.get(city) + \" are 65 or older\")"
   ]
  },
  {
   "cell_type": "code",
   "execution_count": null,
   "metadata": {},
   "outputs": [],
   "source": []
  }
 ]
}