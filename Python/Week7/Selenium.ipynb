{
 "nbformat": 4,
 "nbformat_minor": 2,
 "metadata": {
  "language_info": {
   "name": "python",
   "codemirror_mode": {
    "name": "ipython",
    "version": 3
   },
   "version": "3.7.4-final"
  },
  "orig_nbformat": 2,
  "file_extension": ".py",
  "mimetype": "text/x-python",
  "name": "python",
  "npconvert_exporter": "python",
  "pygments_lexer": "ipython3",
  "version": 3,
  "kernelspec": {
   "name": "python3",
   "display_name": "Python 3"
  }
 },
 "cells": [
  {
   "cell_type": "code",
   "execution_count": 33,
   "metadata": {},
   "outputs": [
    {
     "data": {
      "text/plain": "' Støtte i et problem her hvor at man ikke kan klikke på private opslag\\npå dba.dk, har brugt lidt over en time på mange forskellige svar muligheder men ingen\\ner ført frem til noget fornuftigt. Heraf givet op for nu.  '"
     },
     "execution_count": 33,
     "metadata": {},
     "output_type": "execute_result"
    }
   ],
   "source": [
    "from selenium import webdriver\n",
    "from selenium.webdriver.common.action_chains import ActionChains\n",
    "\n",
    "base_url = \"https://google.com\"\n",
    "browser = webdriver.Firefox()\n",
    "browser.get(base_url)\n",
    "\n",
    "search_field = browser.find_element_by_name(\"q\")\n",
    "search_field.send_keys(\"dba\")\n",
    "search_field.submit()\n",
    "\n",
    "browser.implicitly_wait(4)\n",
    "results = browser.find_elements_by_xpath('//div[@class=\"r\"]/a/h3')\n",
    "results[0].click()\n",
    "\n",
    "search_field = browser.find_element_by_id(\"searchField\")\n",
    "search_field.send_keys(\"cykel\")\n",
    "search_field.submit()\n",
    "\n",
    "\"\"\" Støtte i et problem her hvor at man ikke kan klikke på private opslag\n",
    "på dba.dk, har brugt lidt over en time på mange forskellige svar muligheder men ingen\n",
    "er ført frem til noget fornuftigt. Heraf givet op for nu.  \"\"\"\n",
    "\n",
    "#browser.implicitly_wait(10)\n",
    "#element = browser.find_element_by_xpath(\"//span[@class='human-ref']\")\n",
    "\n",
    "#actions = ActionChains(browser)\n",
    "#actions.move_to_element(element).click().perform()\n",
    "\n",
    "#filter_search = browser.find_elements_by_class_name(\"human-ref\")\n",
    "\n",
    "#filter_search[0].click().perform()\n",
    "\n",
    "\n"
   ]
  },
  {
   "cell_type": "code",
   "execution_count": null,
   "metadata": {},
   "outputs": [],
   "source": []
  }
 ]
}